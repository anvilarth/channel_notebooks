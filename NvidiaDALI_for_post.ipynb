{
 "cells": [
  {
   "cell_type": "markdown",
   "metadata": {},
   "source": [
    "### Installing necessary dependencies"
   ]
  },
  {
   "cell_type": "code",
   "execution_count": null,
   "metadata": {},
   "outputs": [],
   "source": [
    "# %pip install pytorch_lightning lightning_utilities torchmetrics tqdm pyyaml matplotlib seaborn"
   ]
  },
  {
   "cell_type": "code",
   "execution_count": null,
   "metadata": {},
   "outputs": [],
   "source": [
    "# %pip install nvidia-dali-cuda120 "
   ]
  },
  {
   "cell_type": "code",
   "execution_count": 3,
   "metadata": {},
   "outputs": [],
   "source": [
    "import glob \n",
    "import os\n",
    "import numpy as np\n",
    "import time\n",
    "\n",
    "import nvidia.dali.fn as fn\n",
    "import nvidia.dali.types as types\n",
    "from nvidia.dali.pipeline import Pipeline\n",
    "from nvidia.dali.plugin.pytorch import (\n",
    "    DALIGenericIterator as PyTorchIterator,\n",
    ")\n",
    "\n",
    "import torch\n",
    "import torchvision.transforms as transforms\n",
    "import torchvision.datasets as datasets\n",
    "import torch.nn.functional as F\n",
    "import torchvision.transforms.functional as TF\n",
    "from torchvision.io import decode_image, decode_jpeg\n",
    "from torch.utils.data import DataLoader, Dataset\n",
    "\n",
    "from PIL import Image\n",
    "from random import shuffle\n",
    "\n",
    "from matplotlib import pyplot as plt"
   ]
  },
  {
   "cell_type": "markdown",
   "metadata": {},
   "source": [
    "### Creating random images jpeg"
   ]
  },
  {
   "cell_type": "code",
   "execution_count": 4,
   "metadata": {},
   "outputs": [],
   "source": [
    "def generate_random_images(num_images=1000, width=1024, height=1024, folder='photo_folder', extension='jpeg'):\n",
    "    # Create the output folder if it doesn't exist\n",
    "    os.makedirs(folder, exist_ok=True)\n",
    "\n",
    "    for i in range(num_images):\n",
    "        # Generate an array of random pixel data\n",
    "        data = np.random.randint(0, 256, (height, width, 3), dtype=np.uint8)\n",
    "        # Create an image from the random data\n",
    "        img = Image.fromarray(data, 'RGB')\n",
    "        # Define the image filename\n",
    "        img_path = os.path.join(folder, f\"image_{i+1}.{extension}\")\n",
    "        # Save the image in JPEG format\n",
    "        img.save(img_path, extension)\n",
    "        print(f\"Saved {img_path}\")\n",
    "\n",
    "# generate_random_images(folder='photo_folder_png', extension='png')\n",
    "# generate_random_images(folder='photo_folder_jpeg', extension='jpeg')"
   ]
  },
  {
   "cell_type": "markdown",
   "metadata": {},
   "source": [
    "### Defining reader for our image dataset"
   ]
  },
  {
   "cell_type": "code",
   "execution_count": 5,
   "metadata": {},
   "outputs": [],
   "source": [
    "class ExternalInputIterator():\n",
    "    def __init__(self, batch_size, device_id, num_gpus, folder_path, extension):\n",
    "        self.files = glob.glob(f'{folder_path}/*.{extension}')\n",
    "        self.batch_size = batch_size\n",
    "        # whole data set size\n",
    "        self.data_set_len = len(self.files)\n",
    "        # based on the device_id and total number of GPUs - world size\n",
    "        # get proper shard\n",
    "        self.files = self.files[\n",
    "            self.data_set_len\n",
    "            * device_id\n",
    "            // num_gpus : self.data_set_len\n",
    "            * (device_id + 1)\n",
    "            // num_gpus\n",
    "        ]\n",
    "        self.n = len(self.files)\n",
    "\n",
    "    def __iter__(self):\n",
    "        self.i = 0\n",
    "        shuffle(self.files)\n",
    "        return self\n",
    "\n",
    "    def __next__(self):\n",
    "        batch = []\n",
    "\n",
    "        if self.i >= self.n:\n",
    "            self.__iter__()\n",
    "            raise StopIteration\n",
    "\n",
    "        for _ in range(self.batch_size):\n",
    "            jpeg_filename = self.files[self.i % self.n]\n",
    "\n",
    "            batch.append(\n",
    "                np.fromfile(jpeg_filename, dtype=np.uint8)\n",
    "            )  # we can use numpy\n",
    "            self.i += 1\n",
    "        return (batch, )\n",
    "\n",
    "    def __len__(self):\n",
    "        return self.data_set_len"
   ]
  },
  {
   "cell_type": "markdown",
   "metadata": {},
   "source": [
    "### NVIDIA-DALI"
   ]
  },
  {
   "cell_type": "code",
   "execution_count": 6,
   "metadata": {},
   "outputs": [],
   "source": [
    "def get_nvidia_dali_loader(folder_path, extension='jpeg', batch_size=10):\n",
    "    eii = ExternalInputIterator(batch_size, 0, 1, folder_path, extension)\n",
    "\n",
    "    def ExternalSourcePipeline(batch_size, num_threads, device_id, external_data):\n",
    "        pipe = Pipeline(batch_size, num_threads, device_id)\n",
    "        with pipe:\n",
    "            jpegs = fn.external_source(\n",
    "                source=external_data, num_outputs=1, dtype=types.UINT8\n",
    "            )\n",
    "            images = fn.decoders.image(jpegs, device=\"mixed\")\n",
    "            images = fn.resize(images, resize_x=1024, resize_y=1024)\n",
    "            output = fn.normalize(images, mean=0, stddev=255)\n",
    "            output = fn.cast(output, dtype=types.FLOAT16)\n",
    "            pipe.set_outputs(output)\n",
    "        return pipe\n",
    "\n",
    "    pipe = ExternalSourcePipeline(\n",
    "        batch_size=batch_size, num_threads=batch_size, device_id=0, external_data=eii\n",
    "    )\n",
    "    pii = PyTorchIterator(\n",
    "        pipe, [\"data\"]\n",
    "    )\n",
    "    return pii"
   ]
  },
  {
   "cell_type": "markdown",
   "metadata": {},
   "source": [
    "### Standard Pytorch loading"
   ]
  },
  {
   "cell_type": "code",
   "execution_count": 7,
   "metadata": {},
   "outputs": [],
   "source": [
    "class CustomImageDataset(Dataset):\n",
    "    def __init__(self, root, extension='jpeg', transform=None):\n",
    "        \"\"\"\n",
    "        Args:\n",
    "            root (string): Directory with all the images.\n",
    "            transform (callable, optional): Optional transform to be applied on an image.\n",
    "        \"\"\"\n",
    "        self.root = root\n",
    "        self.transform = transform\n",
    "        # List only image files (you can adjust the extensions if needed)\n",
    "        self.image_files = [f for f in os.listdir(root) if f.lower().endswith((f'.{extension}'))]\n",
    "\n",
    "    def __len__(self):\n",
    "        return len(self.image_files)\n",
    "\n",
    "    def __getitem__(self, idx):\n",
    "        # Get the image file path\n",
    "        img_path = os.path.join(self.root, self.image_files[idx])\n",
    "        image = decode_image(img_path, mode=\"RGB\")\n",
    "        image = TF.resize(image, size=(1024, 1024))\n",
    "        # Return the image and an index (or a dummy label if needed)\n",
    "        return image\n"
   ]
  },
  {
   "cell_type": "markdown",
   "metadata": {},
   "source": [
    "### Standard pytorch dataset loading"
   ]
  },
  {
   "cell_type": "code",
   "execution_count": 8,
   "metadata": {},
   "outputs": [],
   "source": [
    "def get_torch_dataloader(folder_path,  extension='jpeg', batch_size=10, device='cuda:0'):\n",
    "    dataset = CustomImageDataset(root=folder_path,  extension=extension, transform=None)\n",
    "\n",
    "    # Create DataLoader with batch size and shuffling enabled\n",
    "    dataloader = DataLoader(dataset, batch_size=batch_size, shuffle=True, num_workers=batch_size, pin_memory=True, persistent_workers=True)\n",
    "    return dataloader"
   ]
  },
  {
   "cell_type": "markdown",
   "metadata": {},
   "source": [
    "### Defining a loader"
   ]
  },
  {
   "cell_type": "code",
   "execution_count": 9,
   "metadata": {},
   "outputs": [],
   "source": [
    "def check_loader(loader, nvidia=False,  device='cuda'):\n",
    "    start_time = time.time()\n",
    "    for e in range(10):\n",
    "        for i, images in enumerate(loader):\n",
    "            if not nvidia:\n",
    "                images = images.to(device, dtype=torch.float16)\n",
    "        if nvidia:\n",
    "            loader.reset()\n",
    "        \n",
    "        print(f\"epoch: {e} completed\")\n",
    "    \n",
    "    end_time = time.time()\n",
    "    elapsed_time = end_time - start_time\n",
    "    print(f\"Total execution time: {elapsed_time:.2f} seconds\")"
   ]
  },
  {
   "cell_type": "markdown",
   "metadata": {},
   "source": [
    "### Comparing on jpeg"
   ]
  },
  {
   "cell_type": "code",
   "execution_count": 10,
   "metadata": {},
   "outputs": [],
   "source": [
    "FOLDER_PATH_JPEG = 'photo_folder_jpeg'"
   ]
  },
  {
   "cell_type": "code",
   "execution_count": 11,
   "metadata": {},
   "outputs": [],
   "source": [
    "nvidia_loader_jpeg = get_nvidia_dali_loader(FOLDER_PATH_JPEG, extension='jpeg')\n",
    "torch_loader_jpeg = get_torch_dataloader(FOLDER_PATH_JPEG, extension='jpeg')"
   ]
  },
  {
   "cell_type": "code",
   "execution_count": 12,
   "metadata": {},
   "outputs": [
    {
     "name": "stdout",
     "output_type": "stream",
     "text": [
      "epoch: 0 completed\n",
      "epoch: 1 completed\n",
      "epoch: 2 completed\n",
      "epoch: 3 completed\n",
      "epoch: 4 completed\n",
      "epoch: 5 completed\n",
      "epoch: 6 completed\n",
      "epoch: 7 completed\n",
      "epoch: 8 completed\n",
      "epoch: 9 completed\n",
      "Total execution time: 4.63 seconds\n"
     ]
    }
   ],
   "source": [
    "check_loader(nvidia_loader_jpeg, nvidia=True)"
   ]
  },
  {
   "cell_type": "code",
   "execution_count": 13,
   "metadata": {},
   "outputs": [
    {
     "name": "stdout",
     "output_type": "stream",
     "text": [
      "epoch: 0 completed\n",
      "epoch: 1 completed\n",
      "epoch: 2 completed\n",
      "epoch: 3 completed\n",
      "epoch: 4 completed\n",
      "epoch: 5 completed\n",
      "epoch: 6 completed\n",
      "epoch: 7 completed\n",
      "epoch: 8 completed\n",
      "epoch: 9 completed\n",
      "Total execution time: 55.24 seconds\n"
     ]
    }
   ],
   "source": [
    "check_loader(torch_loader_jpeg)"
   ]
  },
  {
   "cell_type": "markdown",
   "metadata": {},
   "source": [
    "Difference is significant -- nvidia-dali is faster by 5 times"
   ]
  },
  {
   "cell_type": "markdown",
   "metadata": {},
   "source": [
    "### Comparing on png"
   ]
  },
  {
   "cell_type": "code",
   "execution_count": 14,
   "metadata": {},
   "outputs": [],
   "source": [
    "FOLDER_PATH_PNG = 'photo_folder_png'"
   ]
  },
  {
   "cell_type": "code",
   "execution_count": 15,
   "metadata": {},
   "outputs": [],
   "source": [
    "nvidia_loader_png = get_nvidia_dali_loader(FOLDER_PATH_PNG, extension='png')\n",
    "torch_loader_png = get_torch_dataloader(FOLDER_PATH_PNG, extension='png')"
   ]
  },
  {
   "cell_type": "code",
   "execution_count": 16,
   "metadata": {},
   "outputs": [
    {
     "name": "stdout",
     "output_type": "stream",
     "text": [
      "epoch: 0 completed\n",
      "epoch: 1 completed\n",
      "epoch: 2 completed\n",
      "epoch: 3 completed\n",
      "epoch: 4 completed\n",
      "epoch: 5 completed\n",
      "epoch: 6 completed\n",
      "epoch: 7 completed\n",
      "epoch: 8 completed\n",
      "epoch: 9 completed\n",
      "Total execution time: 16.39 seconds\n"
     ]
    }
   ],
   "source": [
    "check_loader(nvidia_loader_png, nvidia=True)"
   ]
  },
  {
   "cell_type": "code",
   "execution_count": 17,
   "metadata": {},
   "outputs": [
    {
     "name": "stdout",
     "output_type": "stream",
     "text": [
      "epoch: 0 completed\n",
      "epoch: 1 completed\n",
      "epoch: 2 completed\n",
      "epoch: 3 completed\n",
      "epoch: 4 completed\n",
      "epoch: 5 completed\n",
      "epoch: 6 completed\n",
      "epoch: 7 completed\n",
      "epoch: 8 completed\n",
      "epoch: 9 completed\n",
      "Total execution time: 55.12 seconds\n"
     ]
    }
   ],
   "source": [
    "check_loader(torch_loader_png)"
   ]
  },
  {
   "cell_type": "markdown",
   "metadata": {},
   "source": [
    "### Visualization"
   ]
  },
  {
   "cell_type": "code",
   "execution_count": 5,
   "metadata": {},
   "outputs": [
    {
     "data": {
      "image/png": "[encoded data removed]",
      "text/plain": [
       "<Figure size 1000x600 with 1 Axes>"
      ]
     },
     "metadata": {},
     "output_type": "display_data"
    }
   ],
   "source": [
    "import matplotlib.pyplot as plt\n",
    "import numpy as np\n",
    "import matplotlib.patheffects as pe\n",
    "\n",
    "# Используем стиль \"ggplot\"\n",
    "plt.style.use('ggplot')\n",
    "\n",
    "# Данные эксперимента\n",
    "categories = ['JPEG', 'PNG']\n",
    "dali_times = [4, 16]       # Время (секунды) для NVIDIA DALI\n",
    "pytorch_times = [55, 55]   # Время (секунды) для Pytorch\n",
    "\n",
    "# Позиции групп и ширина столбцов\n",
    "x = np.arange(len(categories))\n",
    "width = 0.35\n",
    "\n",
    "fig, ax = plt.subplots(figsize=(10, 6))\n",
    "\n",
    "# Используем \"нормальные\" цвета: синий для DALI и оранжевый для Pytorch\n",
    "bars_dali = ax.bar(x - width/2, dali_times, width, label='NVIDIA DALI',\n",
    "                   color='dodgerblue', edgecolor='black', linewidth=1.2)\n",
    "bars_pytorch = ax.bar(x + width/2, pytorch_times, width, label='Pytorch',\n",
    "                      color='salmon', edgecolor='black', linewidth=1.2)\n",
    "\n",
    "# Добавляем эффект теней к столбцам\n",
    "for bar in bars_dali + bars_pytorch:\n",
    "    bar.set_path_effects([pe.SimpleLineShadow(offset=(2, -2), alpha=0.6), pe.Normal()])\n",
    "\n",
    "# Настройки подписей осей и заголовка\n",
    "ax.set_ylabel('Время (секунды)', fontsize=14, fontweight='bold')\n",
    "ax.set_title('Сравнение производительности: NVIDIA DALI vs Pytorch\\n10 эпох по 1000 изображений', \n",
    "             fontsize=16, fontweight='bold')\n",
    "ax.set_xticks(x)\n",
    "ax.set_xticklabels(categories, fontsize=14)\n",
    "ax.legend(fontsize=12)\n",
    "\n",
    "# Настройка сетки\n",
    "ax.grid(True, linestyle='--', linewidth=0.5, alpha=0.7)\n",
    "\n",
    "# Функция для подписей значений над столбцами\n",
    "def autolabel(rects):\n",
    "    for rect in rects:\n",
    "        height = rect.get_height()\n",
    "        ax.annotate(f'{height:.0f}',\n",
    "                    xy=(rect.get_x() + rect.get_width() / 2, height),\n",
    "                    xytext=(0, 5),  # смещение над столбцом\n",
    "                    textcoords=\"offset points\",\n",
    "                    ha='center', va='bottom',\n",
    "                    fontsize=12, fontweight='bold', color='navy')\n",
    "\n",
    "autolabel(bars_dali)\n",
    "autolabel(bars_pytorch)\n",
    "\n",
    "plt.tight_layout()\n",
    "plt.show()"
   ]
  },
  {
   "cell_type": "markdown",
   "metadata": {},
   "source": [
    "### Summary"
   ]
  }
 ],
 "metadata": {
  "kernelspec": {
   "display_name": "afilatov_fast_loading",
   "language": "python",
   "name": "python3"
  },
  "language_info": {
   "codemirror_mode": {
    "name": "ipython",
    "version": 3
   },
   "file_extension": ".py",
   "mimetype": "text/x-python",
   "name": "python",
   "nbconvert_exporter": "python",
   "pygments_lexer": "ipython3",
   "version": "3.12.0"
  }
 },
 "nbformat": 4,
 "nbformat_minor": 2
}
